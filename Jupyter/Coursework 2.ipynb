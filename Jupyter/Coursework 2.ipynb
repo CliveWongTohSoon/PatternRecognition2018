{
 "cells": [
  {
   "cell_type": "code",
   "execution_count": 1,
   "metadata": {
    "ExecuteTime": {
     "end_time": "2018-12-04T14:17:19.540560Z",
     "start_time": "2018-12-04T14:17:18.706297Z"
    }
   },
   "outputs": [],
   "source": [
    "from scipy.io import loadmat\n",
    "import pandas as pd\n",
    "import numpy as np\n",
    "import json"
   ]
  },
  {
   "cell_type": "code",
   "execution_count": 3,
   "metadata": {
    "ExecuteTime": {
     "end_time": "2018-12-04T14:18:00.118637Z",
     "start_time": "2018-12-04T14:17:47.479336Z"
    }
   },
   "outputs": [],
   "source": [
    "data = loadmat('assets/PR_data/cuhk03_new_protocol_config_labeled.mat')\n",
    "with open('assets/PR_data/feature_data.json') as f:\n",
    "    features = json.load(f)\n",
    "features = np.array(features)"
   ]
  },
  {
   "cell_type": "code",
   "execution_count": 4,
   "metadata": {
    "ExecuteTime": {
     "end_time": "2018-12-04T14:18:20.599608Z",
     "start_time": "2018-12-04T14:18:20.595733Z"
    }
   },
   "outputs": [],
   "source": [
    "train_idxs = data['train_idx'].flatten()\n",
    "query_idxs = data['query_idx'].flatten()\n",
    "camId = data['camId'].flatten()\n",
    "gallery_idxs = data['gallery_idx'].flatten()\n",
    "labels = data['labels'].flatten()"
   ]
  },
  {
   "cell_type": "code",
   "execution_count": 5,
   "metadata": {
    "ExecuteTime": {
     "end_time": "2018-12-04T14:20:21.853745Z",
     "start_time": "2018-12-04T14:18:31.579334Z"
    }
   },
   "outputs": [],
   "source": [
    "def euclidean_distance(labels, query_idx, gallery_idxs, features):\n",
    "    query = features[query_idx]\n",
    "    gallery = features[gallery_idxs]\n",
    "    distance = np.linalg.norm(gallery - query, axis=1)\n",
    "    argmin = np.argmin(distance)\n",
    "    min_idx = gallery_idxs[argmin]\n",
    "    return labels[min_idx]\n",
    "\n",
    "count = 0\n",
    "for q in query_idxs:\n",
    "    predict = euclidean_distance(labels, q, gallery_idxs, features)\n",
    "    actual = labels[q]\n",
    "    if predict == actual:\n",
    "        count += 1\n"
   ]
  },
  {
   "cell_type": "code",
   "execution_count": 6,
   "metadata": {
    "ExecuteTime": {
     "end_time": "2018-12-04T14:20:21.859550Z",
     "start_time": "2018-12-04T14:20:21.856018Z"
    }
   },
   "outputs": [
    {
     "name": "stdout",
     "output_type": "stream",
     "text": [
      "Accuracy: 0.9107142857142857\n"
     ]
    }
   ],
   "source": [
    "print(f'Accuracy: {count/query_idxs.shape[0]}')"
   ]
  },
  {
   "cell_type": "code",
   "execution_count": null,
   "metadata": {},
   "outputs": [],
   "source": []
  }
 ],
 "metadata": {
  "kernelspec": {
   "display_name": "Python 3",
   "language": "python",
   "name": "python3"
  },
  "language_info": {
   "codemirror_mode": {
    "name": "ipython",
    "version": 3
   },
   "file_extension": ".py",
   "mimetype": "text/x-python",
   "name": "python",
   "nbconvert_exporter": "python",
   "pygments_lexer": "ipython3",
   "version": "3.6.4"
  }
 },
 "nbformat": 4,
 "nbformat_minor": 2
}
